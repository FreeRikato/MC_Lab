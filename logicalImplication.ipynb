{
 "cells": [
  {
   "cell_type": "code",
   "execution_count": null,
   "metadata": {},
   "outputs": [],
   "source": [
    "def check_statement(p, q, r):\n",
    "    \"\"\"\n",
    "    Check and categorize the logical nature of expressions as tautology, contradiction, or contingency.\n",
    "    \n",
    "    Parameters:\n",
    "    p, q, r : bool\n",
    "        Boolean variables used in logical expressions.\n",
    "\n",
    "    Description:\n",
    "    The function evaluates three expressions:\n",
    "    1. A tautology: An expression that is always true.\n",
    "    2. A contradiction: An expression that is always false.\n",
    "    3. A contingency: An expression that is sometimes true and sometimes false.\n",
    "\n",
    "    It prints the nature of each expression based on the evaluations.\n",
    "    \"\"\"\n",
    "    # Expression for Tautology (always true)\n",
    "    tautology_expr = (p or not p)\n",
    "    # Expression for Contradiction (always false)\n",
    "    contradiction_expr = (p and not p)\n",
    "    # Expression for Contingency (sometimes true, sometimes false)\n",
    "    contingency_expr = (p and q) or r\n",
    "\n",
    "    # Evaluate and print the results\n",
    "    print(\"Tautology (always true):\", tautology_expr)\n",
    "    print(\"Contradiction (always false):\", contradiction_expr)\n",
    "    print(\"Contingency (sometimes true, sometimes false):\", contingency_expr)"
   ]
  },
  {
   "cell_type": "code",
   "execution_count": null,
   "metadata": {},
   "outputs": [],
   "source": [
    "\n",
    "# Example usage:\n",
    "# Test with all combinations of True and False for p, q, and r\n",
    "for p in [True, False]:\n",
    "    for q in [True, False]:\n",
    "        for r in [True, False]:\n",
    "            print(f\"\\nEvaluating for p={p}, q={q}, r={r}:\")\n",
    "            check_statement(p, q, r)\n"
   ]
  }
 ],
 "metadata": {
  "language_info": {
   "name": "python"
  }
 },
 "nbformat": 4,
 "nbformat_minor": 2
}

{
 "cells": [
  {
   "cell_type": "code",
   "execution_count": null,
   "metadata": {},
   "outputs": [],
   "source": [
    "def tower_of_hanoi(n, from_rod, to_rod, aux_rod):\n",
    "    \"\"\"\n",
    "    Solve the Tower of Hanoi problem\n",
    "\n",
    "    Parameters:\n",
    "    n : int\n",
    "        Number of disks\n",
    "    from_rod : str\n",
    "        The initial rod where all disks are placed initially\n",
    "    to_rod : str\n",
    "        The target rod where all disks need to be moved\n",
    "    aux_rod : str\n",
    "        The auxiliary rod used in the process of moving disks\n",
    "\n",
    "    Description:\n",
    "    The function recursively moves the disks between the rods.\n",
    "    The problem is divided into smaller problems:\n",
    "    1. Move n-1 disks from the source to auxiliary rod.\n",
    "    2. Move the nth disk from source to target rod.\n",
    "    3. Move the n-1 disks from auxiliary to target rod.\n",
    "    \"\"\"\n",
    "    if n == 1:\n",
    "        print(f\"Move disk 1 from rod {from_rod} to rod {to_rod}\")\n",
    "        return\n",
    "    tower_of_hanoi(n-1, from_rod, aux_rod, to_rod)\n",
    "    print(f\"Move disk {n} from rod {from_rod} to rod {to_rod}\")\n",
    "    tower_of_hanoi(n-1, aux_rod, to_rod, from_rod)"
   ]
  },
  {
   "cell_type": "code",
   "execution_count": null,
   "metadata": {},
   "outputs": [],
   "source": [
    "\n",
    "# Example usage:\n",
    "# Move 3 disks from rod A to rod C using rod B as auxiliary\n",
    "tower_of_hanoi(3, 'A', 'C', 'B ')"
   ]
  }
 ],
 "metadata": {
  "language_info": {
   "name": "python"
  }
 },
 "nbformat": 4,
 "nbformat_minor": 2
}

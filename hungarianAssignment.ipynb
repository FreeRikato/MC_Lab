{
 "cells": [
  {
   "cell_type": "code",
   "execution_count": null,
   "metadata": {},
   "outputs": [],
   "source": [
    "import numpy as np\n",
    "from scipy.optimize import linear_sum_assignment"
   ]
  },
  {
   "cell_type": "code",
   "execution_count": null,
   "metadata": {},
   "outputs": [],
   "source": [
    "\n",
    "def hungarian_assignment(cost_matrix):\n",
    "    row_ind, col_ind = linear_sum_assignment(cost_matrix)\n",
    "    total_cost = cost_matrix[row_ind, col_ind].sum()\n",
    "    return total_cost, row_ind, col_ind"
   ]
  },
  {
   "cell_type": "code",
   "execution_count": null,
   "metadata": {},
   "outputs": [],
   "source": [
    "# Example usage\n",
    "cost_matrix = np.array([\n",
    "    [4, 1, 3],\n",
    "    [2, 0, 5],\n",
    "    [3, 2, 2]\n",
    "])\n",
    "\n",
    "optimal_cost, row_indices, col_indices = hungarian_assignment(cost_matrix)\n",
    "\n",
    "print(\"Optimal Cost:\", optimal_cost)\n",
    "print(\"Optimal Assignments (row, column):\")\n",
    "for row, col in zip(row_indices, col_indices):\n",
    "    print(f\"Worker {row + 1} assigned to Task {col + 1}\") \n"
   ]
  }
 ],
 "metadata": {
  "language_info": {
   "name": "python"
  }
 },
 "nbformat": 4,
 "nbformat_minor": 2
}

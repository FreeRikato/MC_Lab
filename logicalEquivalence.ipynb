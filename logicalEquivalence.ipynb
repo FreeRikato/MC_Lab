{
 "cells": [
  {
   "cell_type": "code",
   "execution_count": null,
   "metadata": {},
   "outputs": [],
   "source": [
    "def relation1(p, q):\n",
    "    \"\"\"\n",
    "    First relation: Logical AND\n",
    "    Evaluates if both p and q are True.\n",
    "\n",
    "    Parameters:\n",
    "    p, q : bool\n",
    "        Boolean variables.\n",
    "\n",
    "    Returns:\n",
    "    bool\n",
    "        True if both p and q are True, False otherwise.\n",
    "    \"\"\"\n",
    "    return p and q"
   ]
  },
  {
   "cell_type": "code",
   "execution_count": null,
   "metadata": {},
   "outputs": [],
   "source": [
    "def relation2(p, q):\n",
    "    \"\"\"\n",
    "    Second relation: Using De Morgan's Law\n",
    "    Evaluates the equivalence of NOT (NOT p OR NOT q) to p AND q.\n",
    "\n",
    "    Parameters:\n",
    "    p, q : bool\n",
    "        Boolean variables.\n",
    "\n",
    "    Returns:\n",
    "    bool\n",
    "        True if NOT (NOT p OR NOT q) holds, False otherwise.\n",
    "    \"\"\"\n",
    "    return not (not p or not q)"
   ]
  },
  {
   "cell_type": "code",
   "execution_count": null,
   "metadata": {},
   "outputs": [],
   "source": [
    "def are_equivalent():\n",
    "    \"\"\"\n",
    "    Check if the two logical relations are equivalent for all boolean combinations.\n",
    "\n",
    "    Returns:\n",
    "    bool\n",
    "        True if the relations are equivalent for all combinations, False otherwise.\n",
    "    \"\"\"\n",
    "    values = [True, False]\n",
    "    for p in values:\n",
    "        for q in values:\n",
    "            if relation1(p, q) != relation2(p, q):\n",
    "                return False\n",
    "    return True"
   ]
  },
  {
   "cell_type": "code",
   "execution_count": null,
   "metadata": {},
   "outputs": [],
   "source": [
    "\n",
    "# Example usage:\n",
    "equivalent = are_equivalent()\n",
    "print(f\"The relations are equivalent: {equivalent}\")\n"
   ]
  }
 ],
 "metadata": {
  "language_info": {
   "name": "python"
  }
 },
 "nbformat": 4,
 "nbformat_minor": 2
}

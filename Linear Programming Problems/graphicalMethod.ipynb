{
 "cells": [
  {
   "cell_type": "code",
   "execution_count": null,
   "metadata": {},
   "outputs": [],
   "source": [
    "import gradio as gr\n",
    "import numpy as np\n",
    "import matplotlib.pyplot as plt"
   ]
  },
  {
   "cell_type": "code",
   "execution_count": null,
   "metadata": {},
   "outputs": [],
   "source": [
    "\n",
    "def plot_lines(a1, b1, c1, a2, b2, c2):\n",
    "    \"\"\"\n",
    "    Plots two lines given by the equations:\n",
    "    a1*x + b1*y = c1 and a2*x + b2*y = c2\n",
    "    \"\"\"\n",
    "    x = np.linspace(-10, 10, 400)\n",
    "    plt.figure()\n",
    "\n",
    "    if b1 != 0:\n",
    "        y1 = (c1 - a1 * x) / b1\n",
    "        plt.plot(x, y1, label=f'{a1}x + {b1}y = {c1}')\n",
    "    if b2 != 0:\n",
    "        y2 = (c2 - a2 * x) / b2\n",
    "        plt.plot(x, y2, label=f'{a2}x + {b2}y = {c2}')\n",
    "\n",
    "    plt.xlim(-10, 10)\n",
    "    plt.ylim(-10, 10)\n",
    "    plt.axhline(0, color='black', linewidth=0.5)\n",
    "    plt.axvline(0, color='black', linewidth=0.5)\n",
    "    plt.grid(True)\n",
    "    plt.legend()\n",
    "\n",
    "    # Return the plot object for Gradio\n",
    "    return plt.gcf()  # Use plt.gcf() to get the current figure"
   ]
  },
  {
   "cell_type": "code",
   "execution_count": null,
   "metadata": {},
   "outputs": [],
   "source": [
    "\n",
    "# Gradio interface setup using the correct component for inputs\n",
    "with gr.Blocks() as demo:\n",
    "    gr.Markdown(\"## Graphical Method in Linear Programming\")\n",
    "    gr.Markdown(\"Enter the coefficients for two linear equations in the form ax + by = c\")\n",
    "\n",
    "    with gr.Row():\n",
    "        a1 = gr.Number(label=\"Coefficient a1\", value=1)\n",
    "        b1 = gr.Number(label=\"Coefficient b1\", value=1)\n",
    "        c1 = gr.Number(label=\"Constant c1\", value=2)\n",
    "\n",
    "    with gr.Row():    \n",
    "        a2 = gr.Number(label=\"Coefficient a2\", value=1)\n",
    "        b2 = gr.Number(label=\"Coefficient b2\", value=1)\n",
    "        c2 = gr.Number(label=\"Constant c2\", value=2)\n",
    "\n",
    "    plot_button = gr.Button(\"Plot Lines\")\n",
    "    output_plot = gr.Plot()\n",
    "\n",
    "    plot_button.click(plot_lines, inputs=[a1, b1, c1, a2, b2, c2], outputs=output_plot)\n",
    "\n",
    "demo.launch()\n"
   ]
  }
 ],
 "metadata": {
  "kernelspec": {
   "display_name": ".MC_LAB",
   "language": "python",
   "name": "python3"
  },
  "language_info": {
   "codemirror_mode": {
    "name": "ipython",
    "version": 3
   },
   "file_extension": ".py",
   "mimetype": "text/x-python",
   "name": "python",
   "nbconvert_exporter": "python",
   "pygments_lexer": "ipython3",
   "version": "3.12.1"
  }
 },
 "nbformat": 4,
 "nbformat_minor": 2
}

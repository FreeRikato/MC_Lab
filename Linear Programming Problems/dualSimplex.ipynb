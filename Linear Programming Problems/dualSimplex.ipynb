{
 "cells": [
  {
   "cell_type": "code",
   "execution_count": null,
   "metadata": {},
   "outputs": [],
   "source": [
    "import gradio as gr\n",
    "import lippy as lp"
   ]
  },
  {
   "cell_type": "code",
   "execution_count": null,
   "metadata": {},
   "outputs": [],
   "source": [
    "def solve_lp(c_vec, a_matrix, b_vec):\n",
    "    c_vec = [float(i) for i in c_vec.split(',')]\n",
    "    a_matrix = [[float(num) for num in row.split(',')] for row in a_matrix.split('\\n')]\n",
    "    b_vec = [float(i) for i in b_vec.split(',')]\n",
    "    \n",
    "    c_vec, a_matrix, b_vec = lp.primal_to_dual_lp(c_vec, a_matrix, b_vec)\n",
    "    simplex = lp.SimplexMethod(c_vec, a_matrix, b_vec)\n",
    "    solution, func_value = simplex.solve()\n",
    "    return solution, func_value"
   ]
  },
  {
   "cell_type": "code",
   "execution_count": null,
   "metadata": {},
   "outputs": [],
   "source": [
    "iface = gr.Interface(\n",
    "    fn=solve_lp,\n",
    "    inputs=[\n",
    "        gr.Textbox(label=\"Enter c vector (comma-separated)\", value=\"6, 6, 6\"),\n",
    "        gr.Textbox(label=\"Enter A matrix (rows comma-separated, new line for new row)\", value=\"4, 1, 1\\n1, 2, 0\\n0, 0.5, 4\"),\n",
    "        gr.Textbox(label=\"Enter b vector (comma-separated)\", value=\"5, 3, 8\")\n",
    "    ],\n",
    "    outputs=[\n",
    "        gr.Textbox(label=\"Solution\"),\n",
    "        gr.Textbox(label=\"Objective Function Value\")\n",
    "    ],\n",
    "    title=\"Linear Programming Solver\"\n",
    ")\n",
    "\n",
    "iface.launch()"
   ]
  }
 ],
 "metadata": {
  "language_info": {
   "name": "python"
  }
 },
 "nbformat": 4,
 "nbformat_minor": 2
}

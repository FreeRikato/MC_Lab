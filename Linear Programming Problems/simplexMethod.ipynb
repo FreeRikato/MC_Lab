{
 "cells": [
  {
   "cell_type": "code",
   "execution_count": null,
   "metadata": {},
   "outputs": [],
   "source": [
    "import gradio as gr\n",
    "# Assuming lippy is correctly installed and imported, if it exists.\n",
    "import lippy as lp"
   ]
  },
  {
   "cell_type": "code",
   "execution_count": null,
   "metadata": {},
   "outputs": [],
   "source": [
    "\n",
    "def solve_simplex(c_vec, a_matrix, b_vec):\n",
    "    \"\"\"\n",
    "    Solve a linear programming problem using the Simplex method from the lippy library.\n",
    "\n",
    "    Parameters:\n",
    "    c_vec : list - Coefficients for the objective function.\n",
    "    a_matrix : list of lists - Coefficient matrix for constraints.\n",
    "    b_vec : list - Right-hand side values of constraints.\n",
    "\n",
    "    Returns:\n",
    "    tuple - Solution vector and the value of the objective function.\n",
    "    \"\"\"\n",
    "    # Convert strings input to proper lists using eval (considering safety and trust in user input)\n",
    "    c_vec = eval(c_vec)\n",
    "    a_matrix = eval(a_matrix)\n",
    "    b_vec = eval(b_vec)\n",
    "\n",
    "    simplex = lp.SimplexMethod(c_vec, a_matrix, b_vec)\n",
    "    solution, func_value = simplex.solve()\n",
    "    return f\"Solution: {solution}, Function Value: {func_value}\""
   ]
  },
  {
   "cell_type": "code",
   "execution_count": null,
   "metadata": {},
   "outputs": [],
   "source": [
    "\n",
    "iface = gr.Interface(\n",
    "    fn=solve_simplex,\n",
    "    inputs=[\n",
    "        gr.Textbox(label=\"Objective Function Coefficients (c_vec, e.g., [6, 6, 6])\"),\n",
    "        gr.Textbox(label=\"Constraint Coefficients Matrix (a_matrix, e.g., [[4, 1, 1], [1, 2, 0], [0, 0.5, 4]])\"),\n",
    "        gr.Textbox(label=\"Constraints Values (b_vec, e.g., [5, 3, 8])\")\n",
    "    ],\n",
    "    outputs=\"text\",\n",
    "    title=\"Simplex Method Solver\",\n",
    "    description=\"Enter the coefficients for the objective function, constraints matrix, and constraints values.\"\n",
    ")\n",
    "\n",
    "iface.launch()\n"
   ]
  }
 ],
 "metadata": {
  "language_info": {
   "name": "python"
  }
 },
 "nbformat": 4,
 "nbformat_minor": 2
}

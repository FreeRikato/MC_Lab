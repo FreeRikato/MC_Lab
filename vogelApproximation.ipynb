{
 "cells": [
  {
   "cell_type": "code",
   "execution_count": null,
   "metadata": {},
   "outputs": [],
   "source": [
    "import transportation_problem as tp"
   ]
  },
  {
   "cell_type": "code",
   "execution_count": null,
   "metadata": {},
   "outputs": [],
   "source": [
    "\n",
    "s = [( 'A1' , 14 ), ( 'A2' , 27 ), ( 'A3' , 19 )]\n",
    "d = [( 'B1' , 22 ), ( 'B2' , 13 ), ( 'B3' , 12 ), ( 'B4' , 13 )]\n",
    "c = [[ 6 , 7 , 5 , 3 ], [ 8 , 4 , 2 , 7 ], [ 5 , 9 , 10 , 6 ]]\n",
    "p = tp . TransportationProblem ( s , d , c )\n",
    "r = p . solve ( tp.VogelIniter)\n",
    "print ( r )"
   ]
  }
 ],
 "metadata": {
  "language_info": {
   "name": "python"
  }
 },
 "nbformat": 4,
 "nbformat_minor": 2
}

{
 "cells": [
  {
   "cell_type": "code",
   "execution_count": null,
   "metadata": {},
   "outputs": [],
   "source": [
    "def print_numbers(n, current=1):\n",
    "    \"\"\"\n",
    "    Recursively print numbers from 1 to n.\n",
    "\n",
    "    Parameters:\n",
    "    n : int\n",
    "        The upper limit of numbers to print.\n",
    "    current : int\n",
    "        The current number to print. This is used for the recursion and should not be\n",
    "        set when calling this function initially.\n",
    "\n",
    "    Description:\n",
    "    This function starts by printing the current number, then it calls itself with the\n",
    "    next number, until it reaches the number n. This demonstrates the concept of\n",
    "    recursion where a function calls itself to achieve a repetitive task.\n",
    "    \"\"\"\n",
    "    if current > n:\n",
    "        return  # Base case: if current exceeds n, stop the recursion\n",
    "    print(current)  # Print the current number\n",
    "    print_numbers(n, current + 1)  # Recursive call with the next number"
   ]
  },
  {
   "cell_type": "code",
   "execution_count": null,
   "metadata": {},
   "outputs": [],
   "source": [
    "\n",
    "# Example usage:\n",
    "# Print numbers from 1 to 10\n",
    "print_numbers(10)\n"
   ]
  }
 ],
 "metadata": {
  "language_info": {
   "name": "python"
  }
 },
 "nbformat": 4,
 "nbformat_minor": 2
}
